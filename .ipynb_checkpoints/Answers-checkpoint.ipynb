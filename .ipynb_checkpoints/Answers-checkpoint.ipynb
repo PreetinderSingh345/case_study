{
 "cells": [
  {
   "cell_type": "markdown",
   "metadata": {},
   "source": [
    "#### Ans 1- City Vs Number of times funded"
   ]
  },
  {
   "cell_type": "code",
   "execution_count": 2,
   "metadata": {},
   "outputs": [
    {
     "name": "stdout",
     "output_type": "stream",
     "text": [
      "Bangalore 635\n",
      "Mumbai 449\n",
      "New Delhi 389\n",
      "Gurgaon 241\n",
      "Noida 79\n"
     ]
    },
    {
     "data": {
      "image/png": "[encoded data removed]",
      "text/plain": [
       "<Figure size 432x288 with 1 Axes>"
      ]
     },
     "metadata": {
      "needs_background": "light"
     },
     "output_type": "display_data"
    }
   ],
   "source": [
    "import numpy as np\n",
    "import pandas as pd\n",
    "import matplotlib.pyplot as plt\n",
    "\n",
    "# getCity function to get the corrected names for the cities\n",
    "\n",
    "def getCity(city):\n",
    "    city=str(city)    \n",
    "    \n",
    "    if \"/\" in city:\n",
    "        indianCity=city.split()[0].capitalize()  \n",
    "        \n",
    "        if \"/\" in indianCity:\n",
    "            idx=indianCity.index(\"/\")\n",
    "            \n",
    "            return indianCity[:idx]\n",
    "        \n",
    "        cond=(\"delhi\" in city or \"Delhi\" in city)\n",
    "        \n",
    "        if (indianCity==\"delhi\" or indianCity==\"Delhi\" or (indianCity==\"new\" and cond) or (indianCity==\"New\" and cond)):\n",
    "            return \"New Delhi\"\n",
    "    \n",
    "        return indianCity    \n",
    "    \n",
    "    if (city==\"delhi\" or city==\"Delhi\" or city==\"new delhi\" or city==\"new Delhi\" or city==\"New delhi\" or city==\"New Delhi\"):\n",
    "        return \"New Delhi\"\n",
    "    \n",
    "    return city.capitalize()\n",
    "\n",
    "# getValidCity function to get the valid cities\n",
    "\n",
    "def getValidCity(city):\n",
    "    if (city==\"Bangalore\" or city==\"Mumbai\" or city==\"Gurgaon\" or city==\"Noida\" or city==\"New Delhi\"):\n",
    "        return city\n",
    "    \n",
    "    return np.nan\n",
    "\n",
    "# getting the dataframe\n",
    "    \n",
    "df=pd.read_csv(\"startup_funding.csv\", skipinitialspace=True)\n",
    "\n",
    "# dropping the nan city location values and filling the nan amount values with \"0\"\n",
    "\n",
    "df[\"CityLocation\"].dropna(inplace=True)\n",
    "df[\"AmountInUSD\"].fillna(\"0\", inplace=True)\n",
    "\n",
    "# getting the corrected names for the cities, then getting the valid cities and then dropping the nan city values\n",
    "\n",
    "df_city=df[\"CityLocation\"].apply(getCity)\n",
    "df_city=df_city.apply(getValidCity)\n",
    "df_city.dropna(inplace=True)\n",
    "\n",
    "# getting the unique cities and their funding count\n",
    "\n",
    "np_city=np.array(df_city.value_counts().index)\n",
    "np_count=np.array(df_city.value_counts().values)\n",
    "\n",
    "# printing the cities and their funding count, in descending order wrt funding count\n",
    "\n",
    "for i in range(np_city.shape[0]):\n",
    "    print(np_city[i], np_count[i])\n",
    "    \n",
    "# plotting and showing a bar graph between the cities and their funding count\n",
    "\n",
    "plt.xlabel(\"Valid cities\")\n",
    "plt.ylabel(\"Number of times funded\")\n",
    "plt.title(\"Number of fundings received by valid cities\")\n",
    "    \n",
    "plt.bar(np_city, np_count, width=0.6)\n",
    "plt.show()\n",
    "    "
   ]
  },
  {
   "cell_type": "markdown",
   "metadata": {},
   "source": [
    "According to the friend's financial restriction to choose a startup location among Bangalore, Mumbai and NCR, the best possible choice according to the number of times a city a has been funded will be Bangalore "
   ]
  },
  {
   "cell_type": "markdown",
   "metadata": {},
   "source": [
    "#### Ans 2- Top 5 Investors in Indian startups(a particular investor investing in the same startup multiple times, considered as seperate investments)"
   ]
  },
  {
   "cell_type": "code",
   "execution_count": 4,
   "metadata": {},
   "outputs": [
    {
     "name": "stdout",
     "output_type": "stream",
     "text": [
      "Sequoia Capital 64\n",
      "Accel Partners 52\n",
      "Kalaari Capital 44\n",
      "SAIF Partners 41\n",
      "Indian Angel Network 40\n"
     ]
    },
    {
     "data": {
      "image/png": "[encoded data removed]",
      "text/plain": [
       "<Figure size 432x288 with 1 Axes>"
      ]
     },
     "metadata": {},
     "output_type": "display_data"
    }
   ],
   "source": [
    "# getInvestorNameAndCount function which returns a tuple with the unique investors and their investment count arrays\n",
    "\n",
    "def getInvestorNameAndCount():\n",
    "    investor_vs_count={}\n",
    "    \n",
    "    for i in range(df_investors.shape[0]):        \n",
    "        names=df_investors.iloc[i]\n",
    "        \n",
    "        if (\"undisclosed\" in names or \"Undisclosed\" in names):\n",
    "            continue\n",
    "            \n",
    "        names=names.split(\",\")\n",
    "        \n",
    "        for name in names:                 \n",
    "            name=name.lstrip()\n",
    "            name=name.rstrip()     \n",
    "            \n",
    "            if name==\"\":\n",
    "                continue\n",
    "                \n",
    "            investor_vs_count[name]=investor_vs_count.get(name, 0)+1\n",
    "            \n",
    "    investors=[]\n",
    "    count=[]\n",
    "    \n",
    "    for i in investor_vs_count:\n",
    "        investors.append(i)\n",
    "        count.append(investor_vs_count[i])\n",
    "        \n",
    "    return (np.array(investors), np.array(count))\n",
    "        \n",
    "# getting the dataframe    \n",
    "\n",
    "df=pd.read_csv(\"startup_funding.csv\", skipinitialspace=True)\n",
    "\n",
    "# dropping the nan investor names\n",
    "\n",
    "df_investors=df[\"InvestorsName\"].dropna()\n",
    "\n",
    "# getting the unique investors and the investment count\n",
    "\n",
    "np_investors, np_count=getInvestorNameAndCount()\n",
    "\n",
    "# printing the top 5 investor names and investment count, in descending order wrt the investment count\n",
    "\n",
    "sort_order=(np.argsort(np_count)[::-1])\n",
    "\n",
    "for i in range(5):        \n",
    "    index=sort_order[i]\n",
    "    \n",
    "    print(np_investors[index], np_count[index])\n",
    "    \n",
    "# plotting and showing a pie chart wrt the number of times a particular investor has funded a startup(multiple fundings to \n",
    "# the same startup by a particular investor considered seperately)\n",
    "    \n",
    "plt.axis(\"equal\")\n",
    "plt.title(\"Top investors in Indian startups\")\n",
    "    \n",
    "plt.pie(np_count[sort_order][:5], labels=np_investors[sort_order][:5], autopct=\"%.2f\")\n",
    "plt.show()"
   ]
  },
  {
   "cell_type": "markdown",
   "metadata": {},
   "source": [
    "Since any investor will consider investing in the friend's startup, if the friend and his startup have potential and the investor is interested, therefore the investor is not bound to the location and considering the percentage of times an investor has invested in a startup(among the top 5 investors), reaching out to Sequoia Captial will be the best choice"
   ]
  },
  {
   "cell_type": "markdown",
   "metadata": {},
   "source": [
    "#### Ans 3- Top 5 Investors in Indian startups(a particular investor investing in the same startup multiple times, considered as a single investment)"
   ]
  },
  {
   "cell_type": "code",
   "execution_count": 8,
   "metadata": {},
   "outputs": [
    {
     "name": "stdout",
     "output_type": "stream",
     "text": [
      "Sequoia Capital 47\n",
      "Accel Partners 46\n",
      "Kalaari Capital 40\n",
      "Indian Angel Network 39\n",
      "Blume Ventures 35\n"
     ]
    },
    {
     "data": {
      "image/png": "[encoded data removed]",
      "text/plain": [
       "<Figure size 432x288 with 1 Axes>"
      ]
     },
     "metadata": {},
     "output_type": "display_data"
    }
   ],
   "source": [
    "# correctName function to get the corrected startup name\n",
    "\n",
    "def correctName(name):\n",
    "    if (name==\"Ola\" or name==\"Ola Cabs\" or name==\"Olacabs\"):\n",
    "        return \"Ola\"\n",
    "    elif (name==\"Flipkart\" or name==\"Flipkart.com\"):\n",
    "        return \"Flipkart\"\n",
    "    elif (name==\"Oyo Rooms\" or name==\"OyoRooms\" or name==\"Oyo\" or name==\"Oyorooms\" or name==\"OYO Rooms\"):\n",
    "        return \"Oyo\"\n",
    "    elif (name==\"Paytm\" or name==\"Paytm Marketplace\"):\n",
    "        return \"Paytm\"\n",
    "    else:\n",
    "        return name    \n",
    "\n",
    "# getInvestorNameAndRefinedCount(multiple investments by a particular investor on the same startup considered once) \n",
    "# function which returns a tuple with the unique investors and their investment count arrays\n",
    "\n",
    "def getInvestorNameAndRefinedCount():\n",
    "    investor_vs_count={}\n",
    "    nameHasCome=set()\n",
    "    \n",
    "    for i in range(df_investors.shape[0]):        \n",
    "        names=df_investors.iloc[i]\n",
    "    \n",
    "        if (\"undisclosed\" in names or \"Undisclosed\" in names):\n",
    "            continue\n",
    "            \n",
    "        names=names.split(\",\")\n",
    "        startup_name=df_startup_name.iloc[i]                  \n",
    "        \n",
    "        for name in names:                             \n",
    "            name=name.lstrip()\n",
    "            name=name.rstrip()             \n",
    "            \n",
    "            if name==\"\":\n",
    "                continue\n",
    "                \n",
    "            if name in nameHasCome:\n",
    "                investor_vs_count[name].add(startup_name)\n",
    "            else:\n",
    "                investor_vs_count[name]=set()\n",
    "                nameHasCome.add(name)                         \n",
    "            \n",
    "    investors=[]\n",
    "    count=[]\n",
    "    \n",
    "    for i in investor_vs_count:\n",
    "        investors.append(i)\n",
    "        count.append(len(investor_vs_count[i]))\n",
    "        \n",
    "    return (np.array(investors), np.array(count))\n",
    "  \n",
    "# getting the dataframe\n",
    "    \n",
    "df=pd.read_csv(\"startup_funding.csv\", skipinitialspace=True)\n",
    "\n",
    "# getting the non nan investor names and the corrected startup names wrt the investors\n",
    "\n",
    "df_investors=df[\"InvestorsName\"].dropna()\n",
    "df_startup_name=df[\"StartupName\"].apply(correctName)[df_investors.index]\n",
    "\n",
    "# getting the unique investors and their refined(multiple investments on the same startup, by same investor considered once) \n",
    "# investment count\n",
    "\n",
    "np_investors, np_count=getInvestorNameAndRefinedCount()\n",
    "\n",
    "# printing the top 5 investor names and investment count, in descending order wrt the investment count\n",
    "\n",
    "sort_order=(np.argsort(np_count)[::-1])\n",
    "\n",
    "for i in range(5):        \n",
    "    index=sort_order[i]\n",
    "    \n",
    "    print(np_investors[index], np_count[index])\n",
    "    \n",
    "# plotting and showing a pie chart wrt the number of times a particular investor has funded a startup(multiple fundings to \n",
    "# the same startup by a particular investor considered once)\n",
    "    \n",
    "plt.axis(\"equal\")\n",
    "plt.title(\"Top investors in Indian startups\")\n",
    "    \n",
    "plt.pie(np_count[sort_order][:5], labels=np_investors[sort_order][:5], autopct=\"%.2f\")\n",
    "plt.show()"
   ]
  },
  {
   "cell_type": "markdown",
   "metadata": {},
   "source": [
    "If we conside the number of unique startups an investor has invested in then also Sequoia Capital will be the best choice and it has the largest percentage(among the top 5 investors)"
   ]
  },
  {
   "cell_type": "markdown",
   "metadata": {},
   "source": [
    "#### Ans 4- Top investors in Indian startups(investment type- Crowd/Seed Funding)"
   ]
  },
  {
   "cell_type": "code",
   "execution_count": 9,
   "metadata": {},
   "outputs": [
    {
     "name": "stdout",
     "output_type": "stream",
     "text": [
      "Indian Angel Network 33\n",
      "Rajan Anandan 25\n",
      "LetsVenture 16\n",
      "Anupam Mittal 16\n",
      "Group of Angel Investors 15\n"
     ]
    },
    {
     "data": {
      "image/png": "[encoded data removed]",
      "text/plain": [
       "<Figure size 432x288 with 1 Axes>"
      ]
     },
     "metadata": {},
     "output_type": "display_data"
    }
   ],
   "source": [
    "# getInvestment function to get the corrected investment type\n",
    "\n",
    "def getInvestment(str):\n",
    "    if \"Private\" in str:\n",
    "        return \"Private Equity\"\n",
    "    elif \"Seed\" in str:\n",
    "        return \"Seed Funding\"\n",
    "    elif \"Debt\" in str:\n",
    "        return \"Debt Funding\"\n",
    "    else:\n",
    "        return \"Crowd Funding\"\n",
    "\n",
    "# getInvestorNameAndCount function which returns a tuple with the unique investors and their investment count arrays(where \n",
    "# investment type is Crowd or Seed Funding)\n",
    "    \n",
    "def getInvestorNameAndCount():\n",
    "    investor_vs_count={}\n",
    "    \n",
    "    for i in range(df_investors.shape[0]):        \n",
    "        names=df_investors.iloc[i]\n",
    "        \n",
    "        if (type(names)==float):\n",
    "            continue\n",
    "        \n",
    "        investment_type=df_investment.iloc[i]        \n",
    "        \n",
    "        if ((\"undisclosed\" in names or \"Undisclosed\" in names) or (investment_type!=\"Crowd Funding\" and investment_type!=\"Seed Funding\")):\n",
    "            continue\n",
    "            \n",
    "        names=names.split(\",\")    \n",
    "        \n",
    "        for name in names:                 \n",
    "            name=name.lstrip()\n",
    "            name=name.rstrip()     \n",
    "            \n",
    "            if name==\"\":\n",
    "                continue\n",
    "                \n",
    "            investor_vs_count[name]=investor_vs_count.get(name, 0)+1\n",
    "            \n",
    "    investors=[]\n",
    "    count=[]\n",
    "    \n",
    "    for i in investor_vs_count:\n",
    "        investors.append(i)\n",
    "        count.append(investor_vs_count[i])\n",
    "        \n",
    "    return (np.array(investors), np.array(count))\n",
    "\n",
    "# getting the dataframe\n",
    "\n",
    "df=pd.read_csv(\"startup_funding.csv\", skipinitialspace=True)\n",
    "\n",
    "# getting the correct non nan investment types and the corresponding investors\n",
    "\n",
    "df_investment=df[\"InvestmentType\"].dropna().apply(getInvestment)\n",
    "df_investors=df[\"InvestorsName\"][df_investment.index]\n",
    "\n",
    "# getting the unique investors and their investment count\n",
    "\n",
    "np_investors, np_count=getInvestorNameAndCount()\n",
    "\n",
    "# printing the investors and the investment count, in descending order wrt the investment count\n",
    "\n",
    "sort_order=(np.argsort(np_count))[::-1]\n",
    "\n",
    "for i in range(5):\n",
    "    index=sort_order[i]\n",
    "    \n",
    "    print(np_investors[index], np_count[index])\n",
    "    \n",
    "# plotting and showing a pie chart wrt the number of times a particular investor has made an investment of the type Crowd \n",
    "# or Seed funding\n",
    "    \n",
    "plt.axis(\"equal\")\n",
    "plt.title(\"Top investors in Indian startups with investment type- Crowd/Seed Funding\")\n",
    "\n",
    "plt.pie(np_count[sort_order][:5], labels=np_investors[sort_order][:5], autopct=\"%.2f\")\n",
    "plt.show()\n"
   ]
  },
  {
   "cell_type": "markdown",
   "metadata": {},
   "source": [
    "Since the friend's startup is at an early state and needs Crowd or Seed Funding, therfore Indian Angel Network will be the best choice as it has the largest percentage(among the top 5 investors)"
   ]
  },
  {
   "cell_type": "markdown",
   "metadata": {},
   "source": [
    "#### Ans 5- Top investors in Indian startups(investment type- Private Equity)"
   ]
  },
  {
   "cell_type": "code",
   "execution_count": 7,
   "metadata": {},
   "outputs": [
    {
     "name": "stdout",
     "output_type": "stream",
     "text": [
      "Sequoia Capital 59\n",
      "Accel Partners 46\n",
      "Kalaari Capital 38\n",
      "SAIF Partners 35\n",
      "Blume Ventures 29\n"
     ]
    },
    {
     "data": {
      "image/png": "[encoded data removed]",
      "text/plain": [
       "<Figure size 432x288 with 1 Axes>"
      ]
     },
     "metadata": {},
     "output_type": "display_data"
    }
   ],
   "source": [
    "# getInvestment function to get the corrected investment type\n",
    "\n",
    "def getInvestment(str):\n",
    "    if \"Private\" in str:\n",
    "        return \"Private Equity\"\n",
    "    elif \"Seed\" in str:\n",
    "        return \"Seed Funding\"\n",
    "    elif \"Debt\" in str:\n",
    "        return \"Debt Funding\"\n",
    "    else:\n",
    "        return \"Crowd Funding\"\n",
    "\n",
    "# getInvestorNameAndCount function which returns a tuple with the unique investors and their investment count arrays(where \n",
    "# investment type is Private Equity)\n",
    "\n",
    "def getInvestorNameAndCount():\n",
    "    investor_vs_count={}\n",
    "    \n",
    "    for i in range(df_investors.shape[0]):        \n",
    "        names=df_investors.iloc[i]\n",
    "        \n",
    "        if (type(names)==float):\n",
    "            continue\n",
    "        \n",
    "        investment_type=df_investment.iloc[i]        \n",
    "        \n",
    "        if ((\"undisclosed\" in names or \"Undisclosed\" in names) or (investment_type!=\"Private Equity\")):\n",
    "            continue\n",
    "            \n",
    "        names=names.split(\",\")    \n",
    "        \n",
    "        for name in names:                 \n",
    "            name=name.lstrip()\n",
    "            name=name.rstrip()     \n",
    "            \n",
    "            if name==\"\":\n",
    "                continue\n",
    "                \n",
    "            investor_vs_count[name]=investor_vs_count.get(name, 0)+1\n",
    "            \n",
    "    investors=[]\n",
    "    count=[]\n",
    "    \n",
    "    for i in investor_vs_count:\n",
    "        investors.append(i)\n",
    "        count.append(investor_vs_count[i])\n",
    "        \n",
    "    return (np.array(investors), np.array(count))\n",
    "\n",
    "# getting the dataframe\n",
    "\n",
    "df=pd.read_csv(\"startup_funding.csv\")\n",
    "\n",
    "# getting the correct non nan investment types and the corresponding investors\n",
    "\n",
    "df_investment=df[\"InvestmentType\"].dropna().apply(getInvestment)\n",
    "df_investors=df[\"InvestorsName\"][df_investment.index]\n",
    "\n",
    "# getting the unique investors and their investment count\n",
    "\n",
    "np_investors, np_count=getInvestorNameAndCount()\n",
    "\n",
    "# printing the investors and the investment count, in descending order wrt the investment count\n",
    "\n",
    "sort_order=(np.argsort(np_count))[::-1]\n",
    "\n",
    "for i in range(5):\n",
    "    index=sort_order[i]\n",
    "    \n",
    "    print(np_investors[index], np_count[index])\n",
    "    \n",
    "# plotting and showing a pie chart wrt the number of times a particular investor has made an investment of the type Private\n",
    "# Equity\n",
    "    \n",
    "plt.axis(\"equal\")\n",
    "plt.title(\"Top investors in Indian startups with investment type- Private Equity\")\n",
    "\n",
    "plt.pie(np_count[sort_order][:5], labels=np_investors[sort_order][:5], autopct=\"%.2f\")\n",
    "plt.show()\n"
   ]
  },
  {
   "cell_type": "markdown",
   "metadata": {},
   "source": [
    "Since the friend's startup is at the growth state and needs Private Equity, therfore Sequioa Capital will be the best choice as it has the largest percentage(among the top 5 investors)"
   ]
  }
 ],
 "metadata": {
  "kernelspec": {
   "display_name": "Python 3",
   "language": "python",
   "name": "python3"
  },
  "language_info": {
   "codemirror_mode": {
    "name": "ipython",
    "version": 3
   },
   "file_extension": ".py",
   "mimetype": "text/x-python",
   "name": "python",
   "nbconvert_exporter": "python",
   "pygments_lexer": "ipython3",
   "version": "3.8.5"
  }
 },
 "nbformat": 4,
 "nbformat_minor": 4
}
